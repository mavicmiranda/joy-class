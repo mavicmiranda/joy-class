{
 "cells": [
  {
   "cell_type": "markdown",
   "metadata": {},
   "source": [
    "1. Crie uma função que receba dois valores, o primeiro será o valor de um produto, o segundo a porcentagem de desconto. A função deverá aplicar o desconto ao valor do produto e retornar o valor final."
   ]
  },
  {
   "cell_type": "code",
   "execution_count": 1,
   "metadata": {},
   "outputs": [
    {
     "name": "stdout",
     "output_type": "stream",
     "text": [
      "O valor final do produto com desconto é: R$85.00\n"
     ]
    }
   ],
   "source": [
    "def calculaDesconto(valor_produto, porcentagem_desconto):\n",
    "    desconto = valor_produto * (porcentagem_desconto / 100)\n",
    "    valor_final = valor_produto - desconto\n",
    "    return valor_final\n",
    "\n",
    "valor_produto = 100.00\n",
    "porcentagem_desconto = 15\n",
    "\n",
    "valor_final = calculaDesconto(valor_produto, porcentagem_desconto)\n",
    "print(f\"O valor final do produto com desconto é: R${valor_final:.2f}\")"
   ]
  },
  {
   "cell_type": "markdown",
   "metadata": {},
   "source": [
    "2. Crie uma função que receba 3 valores, esses valores serão as laterais de um triângulo. A função deve determinar se o triângulo é equilátero (3 lados iguais), isósceles (2 lados iguais) ou escaleno (3 lados diferentes).\n",
    "Desafio: Garanta que os valores sejam números (Int ou Float)\n",
    "Obs.: Você pode ignorar os triângulos impossíveis, ou verificar isso como um desafio."
   ]
  },
  {
   "cell_type": "code",
   "execution_count": 5,
   "metadata": {},
   "outputs": [
    {
     "name": "stdout",
     "output_type": "stream",
     "text": [
      "O triangulo é: Equilatero\n"
     ]
    }
   ],
   "source": [
    "def descobreTriangulo(a,b,c):\n",
    "    if(a == b and b == c):\n",
    "        print(\"O triangulo é: Equilatero\")\n",
    "    elif((a == b and a != c) or ( c == b and a != b)):\n",
    "        print(\"O triangulo é: Isoceles\")\n",
    "    else:\n",
    "        print(\"O triangulo é: Escaleno\")\n",
    "\n",
    "\n",
    "descobreTriangulo(3,3,3)"
   ]
  },
  {
   "cell_type": "markdown",
   "metadata": {},
   "source": [
    "3. Considerando a seguinte lista, faça um função que percora cada item da lista. A função deve retornar uma mensagem indicando se há mais valores pares ou mais valores impares.\n",
    "valores = [2, 5, 7, 18, 23, 41, 51, 56, 60, 70, 77, 84, 89, 95, 100]"
   ]
  },
  {
   "cell_type": "code",
   "execution_count": null,
   "metadata": {},
   "outputs": [],
   "source": [
    "valores = [2, 5, 7, 18, 23, 41, 51, 56, 60, 70, 77, 84, 89, 95, 100]\n",
    "\n",
    "par = 0\n",
    "impar = 0\n",
    "for i in range (len(valores)):\n",
    "    if(valores[i]%2==0):\n",
    "        par = par + 1\n",
    "    else:\n",
    "        impar = impar + 1\n",
    "\n",
    "if (par >impar):\n",
    "    print(\"Há mais numeros pares do que numeros impares\")\n",
    "else:\n",
    "    print(\"Há mais numeros impares do que numeros pares\")\n",
    "    "
   ]
  },
  {
   "cell_type": "markdown",
   "metadata": {},
   "source": [
    "4. Crie uma função que solicite ao usuário um valor numérico inteiro. A função deve exibir todos os números inteiros menores que o valor inserido, em ordem decrescente, até chegar a zero. Ao final, a função deve exibir a soma de todos os números exibidos.\n"
   ]
  },
  {
   "cell_type": "code",
   "execution_count": 14,
   "metadata": {},
   "outputs": [
    {
     "name": "stdout",
     "output_type": "stream",
     "text": [
      "3\n",
      "2\n",
      "1\n",
      "0\n",
      "O valor final é: 6.00\n"
     ]
    }
   ],
   "source": [
    "num = int(input(\"Digite um numero inteiro:\"))\n",
    "\n",
    "def contagemRegressiva(num):\n",
    "    soma = 0  \n",
    "    print(num)\n",
    "    for i in range(num, 0, -1):\n",
    "        conta = i - 1\n",
    "        soma += i\n",
    "        print(conta)\n",
    "    return soma  \n",
    "\n",
    "soma_final = contagemRegressiva(num)\n",
    "print(f\"O valor final é: {soma_final:.2f}\")\n"
   ]
  }
 ],
 "metadata": {
  "kernelspec": {
   "display_name": "Python 3",
   "language": "python",
   "name": "python3"
  },
  "language_info": {
   "codemirror_mode": {
    "name": "ipython",
    "version": 3
   },
   "file_extension": ".py",
   "mimetype": "text/x-python",
   "name": "python",
   "nbconvert_exporter": "python",
   "pygments_lexer": "ipython3",
   "version": "3.10.4"
  }
 },
 "nbformat": 4,
 "nbformat_minor": 2
}
