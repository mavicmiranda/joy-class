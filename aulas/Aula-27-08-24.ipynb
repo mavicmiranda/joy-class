{
 "cells": [
  {
   "cell_type": "markdown",
   "metadata": {},
   "source": [
    "5. A partir do ano fornecido pelo usuário escrever um programa que diga se o ano é bissexto ou não."
   ]
  },
  {
   "cell_type": "code",
   "execution_count": 6,
   "metadata": {},
   "outputs": [
    {
     "name": "stdout",
     "output_type": "stream",
     "text": [
      "O ano: 2024 é bissexto\n"
     ]
    }
   ],
   "source": [
    "ano = int(input(\"Digite o ano que deseja verificar:\"))\n",
    "\n",
    "if(ano%4==0):\n",
    "    print(f\"O ano: {ano:.0f} é bissexto\")"
   ]
  },
  {
   "cell_type": "code",
   "execution_count": null,
   "metadata": {},
   "outputs": [],
   "source": [
    "6. Escreva um programa que converta temperaturas de Celsius para Fahrenheit e vice-versa. Peça ao usuário para escolher o tipo de conversão e insira o valor da temperatura."
   ]
  },
  {
   "cell_type": "code",
   "execution_count": 9,
   "metadata": {},
   "outputs": [
    {
     "name": "stdout",
     "output_type": "stream",
     "text": [
      "Conversor de Temperaturas\n",
      "1. Celsius para Fahrenheit\n",
      "2. Fahrenheit para Celsius\n",
      "80.6°F é equivalente a 27.00°C\n"
     ]
    }
   ],
   "source": [
    "def celsius_to_fahrenheit(celsius):\n",
    "    \"\"\"Converte Celsius para Fahrenheit.\"\"\"\n",
    "    return (celsius * 9/5) + 32\n",
    "\n",
    "def fahrenheit_to_celsius(fahrenheit):\n",
    "    \"\"\"Converte Fahrenheit para Celsius.\"\"\"\n",
    "    return (fahrenheit - 32) * 5/9\n",
    "\n",
    "def conversor():\n",
    "    print(\"Conversor de Temperaturas\")\n",
    "    print(\"1. Celsius para Fahrenheit\")\n",
    "    print(\"2. Fahrenheit para Celsius\")\n",
    "\n",
    "    escolha = input(\"Escolha o tipo de conversão (1 ou 2): \")\n",
    "\n",
    "    if escolha == '1':\n",
    "        celsius = float(input(\"Insira a temperatura em Celsius: \"))\n",
    "        fahrenheit = celsius_to_fahrenheit(celsius)\n",
    "        print(f\"{celsius}°C é equivalente a {fahrenheit:.2f}°F\")\n",
    "\n",
    "    elif escolha == '2':\n",
    "        fahrenheit = float(input(\"Insira a temperatura em Fahrenheit: \"))\n",
    "        celsius = fahrenheit_to_celsius(fahrenheit)\n",
    "        print(f\"{fahrenheit}°F é equivalente a {celsius:.2f}°C\")\n",
    "\n",
    "    else:\n",
    "        print(\"Escolha inválida. Por favor, escolha 1 ou 2.\")\n",
    "\n",
    "\n",
    "conversor()\n"
   ]
  },
  {
   "cell_type": "code",
   "execution_count": null,
   "metadata": {},
   "outputs": [],
   "source": [
    "7. Crie uma função onde o computador gera um número aleatório entre 1 e 100 e o usuário tenta adivinhar qual é. O programa deve fornecer dicas se o número inserido é maior ou menor que o número secreto e contar o número de tentativas feitas até o acerto."
   ]
  },
  {
   "cell_type": "markdown",
   "metadata": {},
   "source": [
    "8. Escreva uma função que verifique se uma string é um palíndromo (lê-se da mesma forma de trás para frente).\n",
    "\n",
    "*Para resolver este problema pode ser necessário pesquisar informações além do que foi passado no curso."
   ]
  },
  {
   "cell_type": "markdown",
   "metadata": {},
   "source": [
    "9. Vamos criar um software de triagem de entrevistas. O usuário deve ser perguntado as seguintes perguntas:\n",
    "\n",
    "Nome completo\n",
    "Idade\n",
    "Possui ensino superior completo? (S/N)\n",
    "Possui carteira de habilitação? (S/N) 4.1 Caso sim, qual modalidade? ( A, B ou AB - podem desconsiderar C,D e E)\n",
    "Possui disponibilidade para trabalhar em periodo integral (S/N)\n",
    "Possui mais de 3 anos de experiência? (S/N)\n",
    "Crítérios de eliminação:\n",
    "\n",
    "Ter menos de 18 anos ou mais de 70\n",
    "Não possuir carteira de habilitação ou apenas carteira tipo A\n",
    "Ter respondido \"Não\" em 2 ou mais opções\n",
    "Validação das Respostas(Desafio):\n",
    "\n",
    "Garantir que as respostas estejam de acordo com o formato solicitado.\n",
    "Repetir a pergunta em caso de resposta inválida.\n",
    "Resultado:\n",
    "\n",
    "Imprimir um resumo das informações.\n",
    "Indicar se o candidato foi aprovado ou não com base nos critérios."
   ]
  }
 ],
 "metadata": {
  "kernelspec": {
   "display_name": "Python 3",
   "language": "python",
   "name": "python3"
  },
  "language_info": {
   "codemirror_mode": {
    "name": "ipython",
    "version": 3
   },
   "file_extension": ".py",
   "mimetype": "text/x-python",
   "name": "python",
   "nbconvert_exporter": "python",
   "pygments_lexer": "ipython3",
   "version": "3.10.4"
  }
 },
 "nbformat": 4,
 "nbformat_minor": 2
}
